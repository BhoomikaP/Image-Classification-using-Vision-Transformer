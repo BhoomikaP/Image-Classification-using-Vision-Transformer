{
 "cells": [
  {
   "cell_type": "code",
   "execution_count": 1,
   "id": "86b8b613",
   "metadata": {},
   "outputs": [
    {
     "name": "stderr",
     "output_type": "stream",
     "text": [
      "2022-11-17 02:35:42.479783: I tensorflow/core/platform/cpu_feature_guard.cc:193] This TensorFlow binary is optimized with oneAPI Deep Neural Network Library (oneDNN) to use the following CPU instructions in performance-critical operations:  AVX2 FMA\n",
      "To enable them in other operations, rebuild TensorFlow with the appropriate compiler flags.\n",
      "2022-11-17 02:35:42.643548: E tensorflow/stream_executor/cuda/cuda_blas.cc:2981] Unable to register cuBLAS factory: Attempting to register factory for plugin cuBLAS when one has already been registered\n",
      "2022-11-17 02:35:43.223103: W tensorflow/stream_executor/platform/default/dso_loader.cc:64] Could not load dynamic library 'libnvinfer.so.7'; dlerror: libnvinfer.so.7: cannot open shared object file: No such file or directory; LD_LIBRARY_PATH: :/home/exouser/anaconda3/lib/\n",
      "2022-11-17 02:35:43.223172: W tensorflow/stream_executor/platform/default/dso_loader.cc:64] Could not load dynamic library 'libnvinfer_plugin.so.7'; dlerror: libnvinfer_plugin.so.7: cannot open shared object file: No such file or directory; LD_LIBRARY_PATH: :/home/exouser/anaconda3/lib/\n",
      "2022-11-17 02:35:43.223179: W tensorflow/compiler/tf2tensorrt/utils/py_utils.cc:38] TF-TRT Warning: Cannot dlopen some TensorRT libraries. If you would like to use Nvidia GPU with TensorRT, please make sure the missing libraries mentioned above are installed properly.\n"
     ]
    }
   ],
   "source": [
    "import numpy as np\n",
    "import tensorflow as tf\n",
    "from tensorflow import keras\n",
    "from tensorflow.keras import layers\n",
    "from keras.preprocessing.image import ImageDataGenerator"
   ]
  },
  {
   "cell_type": "code",
   "execution_count": 2,
   "id": "ea5272b7",
   "metadata": {},
   "outputs": [
    {
     "name": "stdout",
     "output_type": "stream",
     "text": [
      "[PhysicalDevice(name='/physical_device:GPU:0', device_type='GPU')]\n"
     ]
    },
    {
     "name": "stderr",
     "output_type": "stream",
     "text": [
      "2022-11-17 02:35:46.198646: I tensorflow/stream_executor/cuda/cuda_gpu_executor.cc:980] successful NUMA node read from SysFS had negative value (-1), but there must be at least one NUMA node, so returning NUMA node zero\n",
      "2022-11-17 02:35:46.203915: I tensorflow/stream_executor/cuda/cuda_gpu_executor.cc:980] successful NUMA node read from SysFS had negative value (-1), but there must be at least one NUMA node, so returning NUMA node zero\n",
      "2022-11-17 02:35:46.204070: I tensorflow/stream_executor/cuda/cuda_gpu_executor.cc:980] successful NUMA node read from SysFS had negative value (-1), but there must be at least one NUMA node, so returning NUMA node zero\n"
     ]
    }
   ],
   "source": [
    "print(tf.config.list_physical_devices('GPU'))"
   ]
  },
  {
   "cell_type": "code",
   "execution_count": 3,
   "id": "2c2a70bd",
   "metadata": {},
   "outputs": [
    {
     "name": "stdout",
     "output_type": "stream",
     "text": [
      "x_train shape: (50000, 32, 32, 3) - y_train shape: (50000, 1)\n",
      "x_test shape: (10000, 32, 32, 3) - y_test shape: (10000, 1)\n"
     ]
    }
   ],
   "source": [
    "num_classes = 100\n",
    "input_shape = (32, 32, 3)\n",
    "\n",
    "(x_train, y_train), (x_test, y_test) = keras.datasets.cifar100.load_data()\n",
    "\n",
    "print(f\"x_train shape: {x_train.shape} - y_train shape: {y_train.shape}\")\n",
    "print(f\"x_test shape: {x_test.shape} - y_test shape: {y_test.shape}\")"
   ]
  },
  {
   "cell_type": "code",
   "execution_count": 4,
   "id": "51895a21",
   "metadata": {},
   "outputs": [
    {
     "name": "stderr",
     "output_type": "stream",
     "text": [
      "2022-11-15 23:34:38.125265: I tensorflow/core/platform/cpu_feature_guard.cc:193] This TensorFlow binary is optimized with oneAPI Deep Neural Network Library (oneDNN) to use the following CPU instructions in performance-critical operations:  AVX2 FMA\n",
      "To enable them in other operations, rebuild TensorFlow with the appropriate compiler flags.\n",
      "2022-11-15 23:34:38.125701: I tensorflow/stream_executor/cuda/cuda_gpu_executor.cc:980] successful NUMA node read from SysFS had negative value (-1), but there must be at least one NUMA node, so returning NUMA node zero\n",
      "2022-11-15 23:34:38.125896: I tensorflow/stream_executor/cuda/cuda_gpu_executor.cc:980] successful NUMA node read from SysFS had negative value (-1), but there must be at least one NUMA node, so returning NUMA node zero\n",
      "2022-11-15 23:34:38.126026: I tensorflow/stream_executor/cuda/cuda_gpu_executor.cc:980] successful NUMA node read from SysFS had negative value (-1), but there must be at least one NUMA node, so returning NUMA node zero\n",
      "2022-11-15 23:34:38.647316: I tensorflow/stream_executor/cuda/cuda_gpu_executor.cc:980] successful NUMA node read from SysFS had negative value (-1), but there must be at least one NUMA node, so returning NUMA node zero\n",
      "2022-11-15 23:34:38.647492: I tensorflow/stream_executor/cuda/cuda_gpu_executor.cc:980] successful NUMA node read from SysFS had negative value (-1), but there must be at least one NUMA node, so returning NUMA node zero\n",
      "2022-11-15 23:34:38.647618: I tensorflow/stream_executor/cuda/cuda_gpu_executor.cc:980] successful NUMA node read from SysFS had negative value (-1), but there must be at least one NUMA node, so returning NUMA node zero\n",
      "2022-11-15 23:34:38.647713: I tensorflow/core/common_runtime/gpu/gpu_device.cc:1616] Created device /job:localhost/replica:0/task:0/device:GPU:0 with 5402 MB memory:  -> device: 0, name: GRID A100X-8C, pci bus id: 0000:04:00.0, compute capability: 8.0\n"
     ]
    }
   ],
   "source": [
    "res_model = keras.applications.ResNet101V2(\n",
    "    include_top=False,\n",
    "    weights=\"imagenet\",\n",
    "    input_shape=(32,32,3)\n",
    ")"
   ]
  },
  {
   "cell_type": "code",
   "execution_count": 5,
   "id": "8ea83c2d",
   "metadata": {},
   "outputs": [],
   "source": [
    "train_datagen_augmented=ImageDataGenerator(rotation_range=20,width_shift_range=0.2,height_shift_range=0.2,shear_range=0.2,zoom_range=0.2,horizontal_flip=True)\n",
    "train_datagen_augmented.fit(x_train)\n"
   ]
  },
  {
   "cell_type": "code",
   "execution_count": 6,
   "id": "6058145f",
   "metadata": {},
   "outputs": [],
   "source": [
    "model1 = keras.models.Sequential()\n",
    "model1.add(res_model)\n",
    "model1.add(keras.layers.Flatten())\n",
    "model1.add(keras.layers.Dense(512,activation='relu'))\n",
    "model1.add(keras.layers.GaussianDropout(0.5))\n",
    "model1.add(keras.layers.Dense(1024,activation='relu'))\n",
    "model1.add(keras.layers.GaussianDropout(0.5))           \n",
    "model1.add(keras.layers.Dense(100,activation='softmax'))"
   ]
  },
  {
   "cell_type": "code",
   "execution_count": 7,
   "id": "7fa0fef9",
   "metadata": {},
   "outputs": [
    {
     "name": "stderr",
     "output_type": "stream",
     "text": [
      "/home/exouser/anaconda3/lib/python3.9/site-packages/keras/optimizers/optimizer_v2/adam.py:114: UserWarning: The `lr` argument is deprecated, use `learning_rate` instead.\n",
      "  super().__init__(name, **kwargs)\n"
     ]
    }
   ],
   "source": [
    "model1.compile(loss='sparse_categorical_crossentropy',optimizer=keras.optimizers.Adam(lr=0.0001),metrics=['accuracy'])"
   ]
  },
  {
   "cell_type": "code",
   "execution_count": 8,
   "id": "ee5933e7",
   "metadata": {
    "scrolled": true
   },
   "outputs": [
    {
     "name": "stdout",
     "output_type": "stream",
     "text": [
      "Model: \"sequential\"\n",
      "_________________________________________________________________\n",
      " Layer (type)                Output Shape              Param #   \n",
      "=================================================================\n",
      " resnet101v2 (Functional)    (None, 1, 1, 2048)        42626560  \n",
      "                                                                 \n",
      " flatten (Flatten)           (None, 2048)              0         \n",
      "                                                                 \n",
      " dense (Dense)               (None, 512)               1049088   \n",
      "                                                                 \n",
      " gaussian_dropout (GaussianD  (None, 512)              0         \n",
      " ropout)                                                         \n",
      "                                                                 \n",
      " dense_1 (Dense)             (None, 1024)              525312    \n",
      "                                                                 \n",
      " gaussian_dropout_1 (Gaussia  (None, 1024)             0         \n",
      " nDropout)                                                       \n",
      "                                                                 \n",
      " dense_2 (Dense)             (None, 100)               102500    \n",
      "                                                                 \n",
      "=================================================================\n",
      "Total params: 44,303,460\n",
      "Trainable params: 44,205,796\n",
      "Non-trainable params: 97,664\n",
      "_________________________________________________________________\n"
     ]
    }
   ],
   "source": [
    "model1.summary()"
   ]
  },
  {
   "cell_type": "code",
   "execution_count": 10,
   "id": "0be8d833",
   "metadata": {},
   "outputs": [
    {
     "name": "stdout",
     "output_type": "stream",
     "text": [
      "Epoch 1/30\n"
     ]
    },
    {
     "name": "stderr",
     "output_type": "stream",
     "text": [
      "2022-11-15 23:35:09.423947: I tensorflow/stream_executor/cuda/cuda_dnn.cc:384] Loaded cuDNN version 8201\n",
      "2022-11-15 23:35:10.005929: I tensorflow/core/platform/default/subprocess.cc:304] Start cannot spawn child process: No such file or directory\n",
      "2022-11-15 23:35:10.006629: I tensorflow/core/platform/default/subprocess.cc:304] Start cannot spawn child process: No such file or directory\n",
      "2022-11-15 23:35:10.006671: W tensorflow/stream_executor/gpu/asm_compiler.cc:80] Couldn't get ptxas version string: INTERNAL: Couldn't invoke ptxas --version\n",
      "2022-11-15 23:35:10.007141: I tensorflow/core/platform/default/subprocess.cc:304] Start cannot spawn child process: No such file or directory\n",
      "2022-11-15 23:35:10.007220: W tensorflow/stream_executor/gpu/redzone_allocator.cc:314] INTERNAL: Failed to launch ptxas\n",
      "Relying on driver to perform ptx compilation. \n",
      "Modify $PATH to customize ptxas location.\n",
      "This message will be only logged once.\n",
      "2022-11-15 23:35:10.689938: I tensorflow/stream_executor/cuda/cuda_blas.cc:1614] TensorFloat-32 will be used for the matrix multiplication. This will only be logged once.\n"
     ]
    },
    {
     "name": "stdout",
     "output_type": "stream",
     "text": [
      "313/313 [==============================] - 19s 38ms/step - loss: 4.6457 - accuracy: 0.0116 - val_loss: 4.5639 - val_accuracy: 0.0182\n",
      "Epoch 2/30\n",
      "313/313 [==============================] - 10s 33ms/step - loss: 4.5040 - accuracy: 0.0268 - val_loss: 4.3847 - val_accuracy: 0.0470\n",
      "Epoch 3/30\n",
      "313/313 [==============================] - 11s 34ms/step - loss: 4.2983 - accuracy: 0.0523 - val_loss: 4.1630 - val_accuracy: 0.0739\n",
      "Epoch 4/30\n",
      "313/313 [==============================] - 11s 34ms/step - loss: 4.0600 - accuracy: 0.0876 - val_loss: 3.8825 - val_accuracy: 0.1176\n",
      "Epoch 5/30\n",
      "313/313 [==============================] - 11s 34ms/step - loss: 3.7113 - accuracy: 0.1465 - val_loss: 3.5526 - val_accuracy: 0.1862\n",
      "Epoch 6/30\n",
      "313/313 [==============================] - 11s 34ms/step - loss: 3.2808 - accuracy: 0.2194 - val_loss: 3.1015 - val_accuracy: 0.2528\n",
      "Epoch 7/30\n",
      "313/313 [==============================] - 11s 36ms/step - loss: 2.8086 - accuracy: 0.2968 - val_loss: 2.6951 - val_accuracy: 0.3264\n",
      "Epoch 8/30\n",
      "313/313 [==============================] - 11s 34ms/step - loss: 2.3739 - accuracy: 0.3889 - val_loss: 2.5125 - val_accuracy: 0.3789\n",
      "Epoch 9/30\n",
      "313/313 [==============================] - 11s 34ms/step - loss: 2.0335 - accuracy: 0.4643 - val_loss: 2.4642 - val_accuracy: 0.4083\n",
      "Epoch 10/30\n",
      "313/313 [==============================] - 11s 34ms/step - loss: 1.7443 - accuracy: 0.5343 - val_loss: 2.3994 - val_accuracy: 0.4274\n",
      "Epoch 11/30\n",
      "313/313 [==============================] - 11s 34ms/step - loss: 1.5132 - accuracy: 0.5921 - val_loss: 2.4013 - val_accuracy: 0.4380\n",
      "Epoch 12/30\n",
      "313/313 [==============================] - 11s 34ms/step - loss: 1.2953 - accuracy: 0.6489 - val_loss: 2.3732 - val_accuracy: 0.4511\n",
      "Epoch 13/30\n",
      "313/313 [==============================] - 11s 35ms/step - loss: 1.1122 - accuracy: 0.6931 - val_loss: 2.4913 - val_accuracy: 0.4494\n",
      "Epoch 14/30\n",
      "313/313 [==============================] - 10s 33ms/step - loss: 0.9610 - accuracy: 0.7339 - val_loss: 2.5492 - val_accuracy: 0.4518\n",
      "Epoch 15/30\n",
      "313/313 [==============================] - 10s 33ms/step - loss: 0.8351 - accuracy: 0.7693 - val_loss: 2.6274 - val_accuracy: 0.4553\n",
      "Epoch 16/30\n",
      "313/313 [==============================] - 11s 34ms/step - loss: 0.7191 - accuracy: 0.8004 - val_loss: 2.6554 - val_accuracy: 0.4638\n",
      "Epoch 17/30\n",
      "313/313 [==============================] - 11s 36ms/step - loss: 0.6180 - accuracy: 0.8287 - val_loss: 2.7285 - val_accuracy: 0.4655\n",
      "Epoch 18/30\n",
      "313/313 [==============================] - 10s 33ms/step - loss: 0.5481 - accuracy: 0.8493 - val_loss: 2.8490 - val_accuracy: 0.4606\n",
      "Epoch 19/30\n",
      "313/313 [==============================] - 10s 33ms/step - loss: 0.4784 - accuracy: 0.8680 - val_loss: 2.8887 - val_accuracy: 0.4641\n",
      "Epoch 20/30\n",
      "313/313 [==============================] - 10s 33ms/step - loss: 0.4320 - accuracy: 0.8810 - val_loss: 2.9887 - val_accuracy: 0.4621\n",
      "Epoch 21/30\n",
      "313/313 [==============================] - 10s 33ms/step - loss: 0.3656 - accuracy: 0.8988 - val_loss: 3.0455 - val_accuracy: 0.4646\n",
      "Epoch 22/30\n",
      "313/313 [==============================] - 11s 35ms/step - loss: 0.3310 - accuracy: 0.9059 - val_loss: 3.1513 - val_accuracy: 0.4712\n",
      "Epoch 23/30\n",
      "313/313 [==============================] - 11s 34ms/step - loss: 0.3080 - accuracy: 0.9154 - val_loss: 3.2516 - val_accuracy: 0.4557\n",
      "Epoch 24/30\n",
      "313/313 [==============================] - 10s 33ms/step - loss: 0.2721 - accuracy: 0.9239 - val_loss: 3.1924 - val_accuracy: 0.4663\n",
      "Epoch 25/30\n",
      "313/313 [==============================] - 10s 33ms/step - loss: 0.2514 - accuracy: 0.9311 - val_loss: 3.1788 - val_accuracy: 0.4735\n",
      "Epoch 26/30\n",
      "313/313 [==============================] - 10s 33ms/step - loss: 0.2423 - accuracy: 0.9334 - val_loss: 3.2334 - val_accuracy: 0.4694\n",
      "Epoch 27/30\n",
      "313/313 [==============================] - 10s 33ms/step - loss: 0.2234 - accuracy: 0.9394 - val_loss: 3.2231 - val_accuracy: 0.4771\n",
      "Epoch 28/30\n",
      "313/313 [==============================] - 11s 35ms/step - loss: 0.2034 - accuracy: 0.9449 - val_loss: 3.3394 - val_accuracy: 0.4705\n",
      "Epoch 29/30\n",
      "313/313 [==============================] - 11s 36ms/step - loss: 0.1962 - accuracy: 0.9467 - val_loss: 3.3759 - val_accuracy: 0.4702\n",
      "Epoch 30/30\n",
      "313/313 [==============================] - 11s 34ms/step - loss: 0.1718 - accuracy: 0.9525 - val_loss: 3.4138 - val_accuracy: 0.4693\n"
     ]
    }
   ],
   "source": [
    "with tf.device(\"/GPU:0\"):\n",
    "    history1=model1.fit(\n",
    "        x_train,\n",
    "        y_train,\n",
    "        batch_size=128,\n",
    "        epochs=30,\n",
    "        validation_split=0.2\n",
    "    )"
   ]
  },
  {
   "cell_type": "code",
   "execution_count": 4,
   "id": "41ed6322",
   "metadata": {},
   "outputs": [],
   "source": [
    "learning_rate = 0.001\n",
    "weight_decay = 0.0001\n",
    "batch_size = 32\n",
    "num_epochs = 30\n",
    "image_size = 72 \n",
    "patch_size = 6\n",
    "num_patches = (image_size // patch_size) ** 2\n",
    "projection_dim = 128\n",
    "num_heads = 8\n",
    "transformer_units = [\n",
    "    projection_dim * 2,\n",
    "    projection_dim,\n",
    "]  # Size of the transformer layers\n",
    "transformer_layers = 10\n",
    "mlp_head_units = [2048, 1024] "
   ]
  },
  {
   "cell_type": "code",
   "execution_count": 11,
   "id": "00bb4c08",
   "metadata": {},
   "outputs": [
    {
     "name": "stdout",
     "output_type": "stream",
     "text": [
      "313/313 [==============================] - 3s 10ms/step - loss: 3.3324 - accuracy: 0.4793\n",
      "the accuracy is: 47.929999232292175\n"
     ]
    }
   ],
   "source": [
    "_,acc=model1.evaluate(x_test,y_test)\n",
    "print(\"the accuracy is: {}\".format(acc*100))"
   ]
  },
  {
   "cell_type": "code",
   "execution_count": 12,
   "id": "58bea4ce",
   "metadata": {},
   "outputs": [
    {
     "data": {
      "text/plain": [
       "[<matplotlib.lines.Line2D at 0x7f83188a18b0>]"
      ]
     },
     "execution_count": 12,
     "metadata": {},
     "output_type": "execute_result"
    },
    {
     "data": {
      "image/png": "[encoded data removed]",
      "text/plain": [
       "<Figure size 640x480 with 2 Axes>"
      ]
     },
     "metadata": {},
     "output_type": "display_data"
    }
   ],
   "source": [
    "import matplotlib.pyplot as plt\n",
    "plt.subplot(211)\n",
    "plt.title('Cross Entropy Loss')\n",
    "plt.plot(history1.history['loss'], color='blue', label='train')\n",
    "plt.plot(history1.history['val_loss'], color='orange', label='test')\n",
    "\n",
    "plt.subplot(212)\n",
    "plt.title('Classification Accuracy')\n",
    "plt.plot(history1.history['accuracy'], color='blue', label='train')\n",
    "plt.plot(history1.history['val_accuracy'], color='orange', label='test')"
   ]
  },
  {
   "cell_type": "code",
   "execution_count": 5,
   "id": "fe66da98",
   "metadata": {},
   "outputs": [],
   "source": [
    "def mlp(x, hidden_units, dropout_rate):\n",
    "    for units in hidden_units:\n",
    "        x = layers.Dense(units, activation=tf.nn.gelu)(x)\n",
    "        x = layers.Dropout(dropout_rate)(x)\n",
    "    return x"
   ]
  },
  {
   "cell_type": "code",
   "execution_count": 6,
   "id": "da9448ea",
   "metadata": {},
   "outputs": [
    {
     "name": "stderr",
     "output_type": "stream",
     "text": [
      "2022-11-17 02:36:02.281880: I tensorflow/core/platform/cpu_feature_guard.cc:193] This TensorFlow binary is optimized with oneAPI Deep Neural Network Library (oneDNN) to use the following CPU instructions in performance-critical operations:  AVX2 FMA\n",
      "To enable them in other operations, rebuild TensorFlow with the appropriate compiler flags.\n",
      "2022-11-17 02:36:02.282291: I tensorflow/stream_executor/cuda/cuda_gpu_executor.cc:980] successful NUMA node read from SysFS had negative value (-1), but there must be at least one NUMA node, so returning NUMA node zero\n",
      "2022-11-17 02:36:02.282472: I tensorflow/stream_executor/cuda/cuda_gpu_executor.cc:980] successful NUMA node read from SysFS had negative value (-1), but there must be at least one NUMA node, so returning NUMA node zero\n",
      "2022-11-17 02:36:02.282592: I tensorflow/stream_executor/cuda/cuda_gpu_executor.cc:980] successful NUMA node read from SysFS had negative value (-1), but there must be at least one NUMA node, so returning NUMA node zero\n",
      "2022-11-17 02:36:02.865585: I tensorflow/stream_executor/cuda/cuda_gpu_executor.cc:980] successful NUMA node read from SysFS had negative value (-1), but there must be at least one NUMA node, so returning NUMA node zero\n",
      "2022-11-17 02:36:02.865765: I tensorflow/stream_executor/cuda/cuda_gpu_executor.cc:980] successful NUMA node read from SysFS had negative value (-1), but there must be at least one NUMA node, so returning NUMA node zero\n",
      "2022-11-17 02:36:02.865890: I tensorflow/stream_executor/cuda/cuda_gpu_executor.cc:980] successful NUMA node read from SysFS had negative value (-1), but there must be at least one NUMA node, so returning NUMA node zero\n",
      "2022-11-17 02:36:02.865981: I tensorflow/core/common_runtime/gpu/gpu_device.cc:1616] Created device /job:localhost/replica:0/task:0/device:GPU:0 with 5402 MB memory:  -> device: 0, name: GRID A100X-8C, pci bus id: 0000:04:00.0, compute capability: 8.0\n"
     ]
    }
   ],
   "source": [
    "data_augmentation = keras.Sequential(\n",
    "    [\n",
    "        layers.Normalization(),\n",
    "        layers.Resizing(image_size, image_size),\n",
    "        layers.RandomFlip(\"horizontal\"),\n",
    "        layers.RandomRotation(factor=0.02),\n",
    "        layers.RandomZoom(\n",
    "            height_factor=0.2, width_factor=0.2\n",
    "        ),\n",
    "    ],\n",
    "    name=\"data_augmentation\",\n",
    ")\n"
   ]
  },
  {
   "cell_type": "code",
   "execution_count": 7,
   "id": "04a1d067",
   "metadata": {},
   "outputs": [],
   "source": [
    "class Patches(layers.Layer):\n",
    "    def __init__(self, patch_size):\n",
    "        super(Patches, self).__init__()\n",
    "        self.patch_size = patch_size\n",
    "\n",
    "    def call(self, images):\n",
    "        batch_size = tf.shape(images)[0]\n",
    "        patches = tf.image.extract_patches(\n",
    "            images=images,\n",
    "            sizes=[1, self.patch_size, self.patch_size, 1],\n",
    "            strides=[1, self.patch_size, self.patch_size, 1],\n",
    "            rates=[1, 1, 1, 1],\n",
    "            padding=\"VALID\",\n",
    "        )\n",
    "        patch_dims = patches.shape[-1]\n",
    "        patches = tf.reshape(patches, [batch_size, -1, patch_dims])\n",
    "        return patches"
   ]
  },
  {
   "cell_type": "code",
   "execution_count": 8,
   "id": "2730dcc2",
   "metadata": {},
   "outputs": [],
   "source": [
    "class PatchEncoder(layers.Layer):\n",
    "    def __init__(self, num_patches, projection_dim):\n",
    "        super(PatchEncoder, self).__init__()\n",
    "        self.num_patches = num_patches\n",
    "        self.projection = layers.Dense(units=projection_dim)\n",
    "        self.position_embedding = layers.Embedding(\n",
    "            input_dim=num_patches, output_dim=projection_dim\n",
    "        )\n",
    "\n",
    "    def call(self, patch):\n",
    "        positions = tf.range(start=0, limit=self.num_patches, delta=1)\n",
    "        encoded = self.projection(patch) + self.position_embedding(positions)\n",
    "        return encoded"
   ]
  },
  {
   "cell_type": "code",
   "execution_count": 9,
   "id": "fd64ba6e",
   "metadata": {},
   "outputs": [
    {
     "name": "stdout",
     "output_type": "stream",
     "text": [
      "Image size: 72 X 72\n",
      "Patch size: 6 X 6\n",
      "Patches per image: 144\n",
      "Elements per patch: 108\n"
     ]
    },
    {
     "data": {
      "image/png": "[encoded data removed]",
      "text/plain": [
       "<Figure size 400x400 with 1 Axes>"
      ]
     },
     "metadata": {},
     "output_type": "display_data"
    },
    {
     "data": {
      "image/png": "[encoded data removed]",
      "text/plain": [
       "<Figure size 400x400 with 144 Axes>"
      ]
     },
     "metadata": {},
     "output_type": "display_data"
    }
   ],
   "source": [
    "import matplotlib.pyplot as plt\n",
    "\n",
    "plt.figure(figsize=(4, 4))\n",
    "image = x_train[np.random.choice(range(x_train.shape[0]))]\n",
    "plt.imshow(image.astype(\"uint8\"))\n",
    "plt.axis(\"off\")\n",
    "\n",
    "resized_image = tf.image.resize(\n",
    "    tf.convert_to_tensor([image]), size=(image_size, image_size)\n",
    ")\n",
    "patches = Patches(patch_size)(resized_image)\n",
    "print(f\"Image size: {image_size} X {image_size}\")\n",
    "print(f\"Patch size: {patch_size} X {patch_size}\")\n",
    "print(f\"Patches per image: {patches.shape[1]}\")\n",
    "print(f\"Elements per patch: {patches.shape[-1]}\")\n",
    "\n",
    "n = int(np.sqrt(patches.shape[1]))\n",
    "plt.figure(figsize=(4, 4))\n",
    "for i, patch in enumerate(patches[0]):\n",
    "    ax = plt.subplot(n, n, i + 1)\n",
    "    patch_img = tf.reshape(patch, (patch_size, patch_size, 3))\n",
    "    plt.imshow(patch_img.numpy().astype(\"uint8\"))\n",
    "    plt.axis(\"off\")"
   ]
  },
  {
   "cell_type": "code",
   "execution_count": 10,
   "id": "eac51a86",
   "metadata": {},
   "outputs": [],
   "source": [
    "def create_vit_classifier():\n",
    "    inputs = layers.Input(shape=input_shape)\n",
    "    # Augment data.\n",
    "    augmented = data_augmentation(inputs)\n",
    "    # Create patches.\n",
    "    patches = Patches(patch_size)(augmented)\n",
    "    # Encode patches.\n",
    "    encoded_patches = PatchEncoder(num_patches, projection_dim)(patches)\n",
    "\n",
    "    # Create multiple layers of the Transformer block.\n",
    "    for _ in range(transformer_layers):\n",
    "        # Layer normalization 1.\n",
    "        x1 = layers.LayerNormalization(epsilon=1e-6)(encoded_patches)\n",
    "        # Create a multi-head attention layer.\n",
    "        attention_output = layers.MultiHeadAttention(\n",
    "            num_heads=num_heads, key_dim=projection_dim, dropout=0.1\n",
    "        )(x1, x1)\n",
    "        # Skip connection 1.\n",
    "        x2 = layers.Add()([attention_output, encoded_patches])\n",
    "        # Layer normalization 2.\n",
    "        x3 = layers.LayerNormalization(epsilon=1e-6)(x2)\n",
    "        # MLP.\n",
    "        x3 = mlp(x3, hidden_units=transformer_units, dropout_rate=0.1)\n",
    "        # Skip connection 2.\n",
    "        encoded_patches = layers.Add()([x3, x2])\n",
    "\n",
    "    # Create a [batch_size, projection_dim] tensor.\n",
    "    representation = layers.LayerNormalization(epsilon=1e-6)(encoded_patches)\n",
    "    representation = layers.Flatten()(representation)\n",
    "    representation = layers.Dropout(0.5)(representation)\n",
    "    # Add MLP.\n",
    "    features = mlp(representation, hidden_units=mlp_head_units, dropout_rate=0.5)\n",
    "    # Classify outputs.\n",
    "    logits = layers.Dense(num_classes)(features)\n",
    "    # Create the Keras model.\n",
    "    model = keras.Model(inputs=inputs, outputs=logits)\n",
    "    return model"
   ]
  },
  {
   "cell_type": "code",
   "execution_count": 11,
   "id": "57d0985a",
   "metadata": {},
   "outputs": [
    {
     "name": "stdout",
     "output_type": "stream",
     "text": [
      "WARNING:tensorflow:Using a while_loop for converting RngReadAndSkip cause there is no registered converter for this op.\n",
      "WARNING:tensorflow:Using a while_loop for converting Bitcast cause there is no registered converter for this op.\n",
      "WARNING:tensorflow:Using a while_loop for converting Bitcast cause there is no registered converter for this op.\n",
      "WARNING:tensorflow:Using a while_loop for converting StatelessRandomUniformV2 cause there is no registered converter for this op.\n",
      "WARNING:tensorflow:Using a while_loop for converting ImageProjectiveTransformV3 cause there is no registered converter for this op.\n",
      "WARNING:tensorflow:Using a while_loop for converting RngReadAndSkip cause there is no registered converter for this op.\n",
      "WARNING:tensorflow:Using a while_loop for converting Bitcast cause there is no registered converter for this op.\n",
      "WARNING:tensorflow:Using a while_loop for converting Bitcast cause there is no registered converter for this op.\n",
      "WARNING:tensorflow:Using a while_loop for converting StatelessRandomUniformV2 cause there is no registered converter for this op.\n",
      "WARNING:tensorflow:Using a while_loop for converting RngReadAndSkip cause there is no registered converter for this op.\n",
      "WARNING:tensorflow:Using a while_loop for converting Bitcast cause there is no registered converter for this op.\n",
      "WARNING:tensorflow:Using a while_loop for converting Bitcast cause there is no registered converter for this op.\n",
      "WARNING:tensorflow:Using a while_loop for converting StatelessRandomUniformV2 cause there is no registered converter for this op.\n",
      "WARNING:tensorflow:Using a while_loop for converting ImageProjectiveTransformV3 cause there is no registered converter for this op.\n",
      "WARNING:tensorflow:Using a while_loop for converting RngReadAndSkip cause there is no registered converter for this op.\n",
      "WARNING:tensorflow:Using a while_loop for converting Bitcast cause there is no registered converter for this op.\n",
      "WARNING:tensorflow:Using a while_loop for converting Bitcast cause there is no registered converter for this op.\n",
      "WARNING:tensorflow:Using a while_loop for converting StatelessRandomUniformV2 cause there is no registered converter for this op.\n",
      "WARNING:tensorflow:Using a while_loop for converting ImageProjectiveTransformV3 cause there is no registered converter for this op.\n",
      "WARNING:tensorflow:Using a while_loop for converting RngReadAndSkip cause there is no registered converter for this op.\n",
      "WARNING:tensorflow:Using a while_loop for converting Bitcast cause there is no registered converter for this op.\n",
      "WARNING:tensorflow:Using a while_loop for converting Bitcast cause there is no registered converter for this op.\n",
      "WARNING:tensorflow:Using a while_loop for converting StatelessRandomUniformV2 cause there is no registered converter for this op.\n",
      "WARNING:tensorflow:Using a while_loop for converting RngReadAndSkip cause there is no registered converter for this op.\n",
      "WARNING:tensorflow:Using a while_loop for converting Bitcast cause there is no registered converter for this op.\n",
      "WARNING:tensorflow:Using a while_loop for converting Bitcast cause there is no registered converter for this op.\n",
      "WARNING:tensorflow:Using a while_loop for converting StatelessRandomUniformV2 cause there is no registered converter for this op.\n",
      "WARNING:tensorflow:Using a while_loop for converting ImageProjectiveTransformV3 cause there is no registered converter for this op.\n",
      "Epoch 1/30\n",
      "WARNING:tensorflow:Using a while_loop for converting RngReadAndSkip cause there is no registered converter for this op.\n",
      "WARNING:tensorflow:Using a while_loop for converting Bitcast cause there is no registered converter for this op.\n",
      "WARNING:tensorflow:Using a while_loop for converting Bitcast cause there is no registered converter for this op.\n",
      "WARNING:tensorflow:Using a while_loop for converting StatelessRandomUniformV2 cause there is no registered converter for this op.\n",
      "WARNING:tensorflow:Using a while_loop for converting ImageProjectiveTransformV3 cause there is no registered converter for this op.\n",
      "WARNING:tensorflow:Using a while_loop for converting RngReadAndSkip cause there is no registered converter for this op.\n",
      "WARNING:tensorflow:Using a while_loop for converting Bitcast cause there is no registered converter for this op.\n",
      "WARNING:tensorflow:Using a while_loop for converting Bitcast cause there is no registered converter for this op.\n",
      "WARNING:tensorflow:Using a while_loop for converting StatelessRandomUniformV2 cause there is no registered converter for this op.\n",
      "WARNING:tensorflow:Using a while_loop for converting RngReadAndSkip cause there is no registered converter for this op.\n",
      "WARNING:tensorflow:Using a while_loop for converting Bitcast cause there is no registered converter for this op.\n",
      "WARNING:tensorflow:Using a while_loop for converting Bitcast cause there is no registered converter for this op.\n",
      "WARNING:tensorflow:Using a while_loop for converting StatelessRandomUniformV2 cause there is no registered converter for this op.\n",
      "WARNING:tensorflow:Using a while_loop for converting ImageProjectiveTransformV3 cause there is no registered converter for this op.\n",
      "WARNING:tensorflow:Using a while_loop for converting RngReadAndSkip cause there is no registered converter for this op.\n",
      "WARNING:tensorflow:Using a while_loop for converting Bitcast cause there is no registered converter for this op.\n",
      "WARNING:tensorflow:Using a while_loop for converting Bitcast cause there is no registered converter for this op.\n",
      "WARNING:tensorflow:Using a while_loop for converting StatelessRandomUniformV2 cause there is no registered converter for this op.\n",
      "WARNING:tensorflow:Using a while_loop for converting ImageProjectiveTransformV3 cause there is no registered converter for this op.\n",
      "WARNING:tensorflow:Using a while_loop for converting RngReadAndSkip cause there is no registered converter for this op.\n",
      "WARNING:tensorflow:Using a while_loop for converting Bitcast cause there is no registered converter for this op.\n",
      "WARNING:tensorflow:Using a while_loop for converting Bitcast cause there is no registered converter for this op.\n",
      "WARNING:tensorflow:Using a while_loop for converting StatelessRandomUniformV2 cause there is no registered converter for this op.\n",
      "WARNING:tensorflow:Using a while_loop for converting RngReadAndSkip cause there is no registered converter for this op.\n",
      "WARNING:tensorflow:Using a while_loop for converting Bitcast cause there is no registered converter for this op.\n",
      "WARNING:tensorflow:Using a while_loop for converting Bitcast cause there is no registered converter for this op.\n",
      "WARNING:tensorflow:Using a while_loop for converting StatelessRandomUniformV2 cause there is no registered converter for this op.\n",
      "WARNING:tensorflow:Using a while_loop for converting ImageProjectiveTransformV3 cause there is no registered converter for this op.\n",
      "   1/1407 [..............................] - ETA: 4:48:43 - loss: 7.4651 - accuracy: 0.0000e+00 - top-5-accuracy: 0.0938"
     ]
    },
    {
     "name": "stderr",
     "output_type": "stream",
     "text": [
      "2022-11-17 02:36:38.418653: I tensorflow/stream_executor/cuda/cuda_blas.cc:1614] TensorFloat-32 will be used for the matrix multiplication. This will only be logged once.\n"
     ]
    },
    {
     "name": "stdout",
     "output_type": "stream",
     "text": [
      "1407/1407 [==============================] - 293s 200ms/step - loss: 4.7746 - accuracy: 0.0109 - top-5-accuracy: 0.0540 - val_loss: 4.6067 - val_accuracy: 0.0088 - val_top-5-accuracy: 0.0476\n",
      "Epoch 2/30\n",
      "1407/1407 [==============================] - 269s 191ms/step - loss: 4.6077 - accuracy: 0.0095 - top-5-accuracy: 0.0482 - val_loss: 4.6074 - val_accuracy: 0.0074 - val_top-5-accuracy: 0.0462\n",
      "Epoch 3/30\n",
      "1407/1407 [==============================] - 265s 188ms/step - loss: 4.6079 - accuracy: 0.0096 - top-5-accuracy: 0.0475 - val_loss: 4.6089 - val_accuracy: 0.0080 - val_top-5-accuracy: 0.0426\n",
      "Epoch 4/30\n",
      "1407/1407 [==============================] - 269s 191ms/step - loss: 4.6333 - accuracy: 0.0091 - top-5-accuracy: 0.0484 - val_loss: 4.6096 - val_accuracy: 0.0092 - val_top-5-accuracy: 0.0476\n",
      "Epoch 5/30\n",
      "1407/1407 [==============================] - 271s 193ms/step - loss: 4.6083 - accuracy: 0.0101 - top-5-accuracy: 0.0488 - val_loss: 4.6103 - val_accuracy: 0.0106 - val_top-5-accuracy: 0.0448\n",
      "Epoch 6/30\n",
      "1407/1407 [==============================] - 270s 192ms/step - loss: 4.6085 - accuracy: 0.0093 - top-5-accuracy: 0.0480 - val_loss: 4.6105 - val_accuracy: 0.0096 - val_top-5-accuracy: 0.0464\n",
      "Epoch 7/30\n",
      "1407/1407 [==============================] - 270s 192ms/step - loss: 4.6084 - accuracy: 0.0094 - top-5-accuracy: 0.0457 - val_loss: 4.6095 - val_accuracy: 0.0078 - val_top-5-accuracy: 0.0428\n",
      "Epoch 8/30\n",
      "1407/1407 [==============================] - 271s 192ms/step - loss: 4.6197 - accuracy: 0.0095 - top-5-accuracy: 0.0480 - val_loss: 4.6088 - val_accuracy: 0.0096 - val_top-5-accuracy: 0.0468\n",
      "Epoch 9/30\n",
      "1407/1407 [==============================] - 269s 191ms/step - loss: 4.6084 - accuracy: 0.0091 - top-5-accuracy: 0.0491 - val_loss: 4.6101 - val_accuracy: 0.0088 - val_top-5-accuracy: 0.0416\n",
      "Epoch 10/30\n",
      "1407/1407 [==============================] - 269s 191ms/step - loss: 4.6084 - accuracy: 0.0091 - top-5-accuracy: 0.0478 - val_loss: 4.6085 - val_accuracy: 0.0110 - val_top-5-accuracy: 0.0482\n",
      "Epoch 11/30\n",
      "1407/1407 [==============================] - 269s 191ms/step - loss: 4.6086 - accuracy: 0.0089 - top-5-accuracy: 0.0490 - val_loss: 4.6106 - val_accuracy: 0.0092 - val_top-5-accuracy: 0.0424\n",
      "Epoch 12/30\n",
      "1407/1407 [==============================] - 268s 191ms/step - loss: 4.6087 - accuracy: 0.0094 - top-5-accuracy: 0.0485 - val_loss: 4.6092 - val_accuracy: 0.0094 - val_top-5-accuracy: 0.0444\n",
      "Epoch 13/30\n",
      "1407/1407 [==============================] - 271s 192ms/step - loss: 4.6088 - accuracy: 0.0086 - top-5-accuracy: 0.0472 - val_loss: 4.6085 - val_accuracy: 0.0110 - val_top-5-accuracy: 0.0486\n",
      "Epoch 14/30\n",
      "1407/1407 [==============================] - 271s 193ms/step - loss: 4.6089 - accuracy: 0.0087 - top-5-accuracy: 0.0475 - val_loss: 4.6105 - val_accuracy: 0.0102 - val_top-5-accuracy: 0.0504\n",
      "Epoch 15/30\n",
      "1407/1407 [==============================] - 269s 191ms/step - loss: 4.6087 - accuracy: 0.0088 - top-5-accuracy: 0.0488 - val_loss: 4.6100 - val_accuracy: 0.0078 - val_top-5-accuracy: 0.0444\n",
      "Epoch 16/30\n",
      "1407/1407 [==============================] - 271s 192ms/step - loss: 4.6925 - accuracy: 0.0094 - top-5-accuracy: 0.0490 - val_loss: 4.6096 - val_accuracy: 0.0090 - val_top-5-accuracy: 0.0474\n",
      "Epoch 17/30\n",
      "1407/1407 [==============================] - 269s 191ms/step - loss: 4.6121 - accuracy: 0.0093 - top-5-accuracy: 0.0469 - val_loss: 4.6113 - val_accuracy: 0.0080 - val_top-5-accuracy: 0.0406\n",
      "Epoch 18/30\n",
      "1407/1407 [==============================] - 269s 191ms/step - loss: 4.6096 - accuracy: 0.0095 - top-5-accuracy: 0.0482 - val_loss: 4.6080 - val_accuracy: 0.0108 - val_top-5-accuracy: 0.0506\n",
      "Epoch 19/30\n",
      "1407/1407 [==============================] - 267s 189ms/step - loss: 4.6096 - accuracy: 0.0096 - top-5-accuracy: 0.0480 - val_loss: 4.6085 - val_accuracy: 0.0074 - val_top-5-accuracy: 0.0440\n",
      "Epoch 20/30\n",
      "1407/1407 [==============================] - 270s 192ms/step - loss: 4.6094 - accuracy: 0.0095 - top-5-accuracy: 0.0482 - val_loss: 4.6098 - val_accuracy: 0.0082 - val_top-5-accuracy: 0.0460\n",
      "Epoch 21/30\n",
      "1407/1407 [==============================] - 270s 192ms/step - loss: 4.6091 - accuracy: 0.0095 - top-5-accuracy: 0.0486 - val_loss: 4.6111 - val_accuracy: 0.0108 - val_top-5-accuracy: 0.0478\n",
      "Epoch 22/30\n",
      "1407/1407 [==============================] - 267s 190ms/step - loss: 4.6103 - accuracy: 0.0090 - top-5-accuracy: 0.0472 - val_loss: 4.6096 - val_accuracy: 0.0118 - val_top-5-accuracy: 0.0482\n",
      "Epoch 23/30\n",
      "1407/1407 [==============================] - 266s 189ms/step - loss: 4.6098 - accuracy: 0.0093 - top-5-accuracy: 0.0471 - val_loss: 4.6091 - val_accuracy: 0.0100 - val_top-5-accuracy: 0.0498\n",
      "Epoch 24/30\n",
      "1407/1407 [==============================] - 269s 191ms/step - loss: 4.6095 - accuracy: 0.0096 - top-5-accuracy: 0.0484 - val_loss: 4.6107 - val_accuracy: 0.0094 - val_top-5-accuracy: 0.0464\n",
      "Epoch 25/30\n",
      "1407/1407 [==============================] - 271s 193ms/step - loss: 4.6094 - accuracy: 0.0098 - top-5-accuracy: 0.0492 - val_loss: 4.6102 - val_accuracy: 0.0076 - val_top-5-accuracy: 0.0492\n",
      "Epoch 26/30\n",
      "1407/1407 [==============================] - 269s 191ms/step - loss: 4.6097 - accuracy: 0.0104 - top-5-accuracy: 0.0495 - val_loss: 4.6108 - val_accuracy: 0.0076 - val_top-5-accuracy: 0.0512\n",
      "Epoch 27/30\n",
      "1407/1407 [==============================] - 271s 192ms/step - loss: 4.6098 - accuracy: 0.0100 - top-5-accuracy: 0.0489 - val_loss: 4.6097 - val_accuracy: 0.0098 - val_top-5-accuracy: 0.0518\n",
      "Epoch 28/30\n",
      "1407/1407 [==============================] - 270s 192ms/step - loss: 4.6096 - accuracy: 0.0098 - top-5-accuracy: 0.0489 - val_loss: 4.6116 - val_accuracy: 0.0080 - val_top-5-accuracy: 0.0470\n",
      "Epoch 29/30\n",
      "1407/1407 [==============================] - 267s 190ms/step - loss: 4.6097 - accuracy: 0.0090 - top-5-accuracy: 0.0484 - val_loss: 4.6105 - val_accuracy: 0.0094 - val_top-5-accuracy: 0.0472\n",
      "Epoch 30/30\n",
      "1407/1407 [==============================] - 268s 190ms/step - loss: 4.6098 - accuracy: 0.0092 - top-5-accuracy: 0.0493 - val_loss: 4.6123 - val_accuracy: 0.0084 - val_top-5-accuracy: 0.0468\n",
      "313/313 [==============================] - 5s 17ms/step - loss: 4.6079 - accuracy: 0.0100 - top-5-accuracy: 0.0500\n",
      "Test accuracy: 1.0%\n",
      "Test top 5 accuracy: 5.0%\n"
     ]
    }
   ],
   "source": [
    "def run_experiment(model):\n",
    "    optimizer = tf.optimizers.Adam(\n",
    "        learning_rate=learning_rate\n",
    "    )\n",
    "\n",
    "    model.compile(\n",
    "        optimizer=optimizer,\n",
    "        loss=keras.losses.SparseCategoricalCrossentropy(from_logits=True),\n",
    "        metrics=[\n",
    "            keras.metrics.SparseCategoricalAccuracy(name=\"accuracy\"),\n",
    "            keras.metrics.SparseTopKCategoricalAccuracy(5, name=\"top-5-accuracy\"),\n",
    "        ],\n",
    "    )\n",
    "\n",
    "   \n",
    "    history = model.fit(\n",
    "        x=x_train,\n",
    "        y=y_train,\n",
    "        batch_size=batch_size,\n",
    "        epochs=num_epochs,\n",
    "        validation_split=0.1,\n",
    "    )\n",
    "    _, accuracy, top_5_accuracy = model.evaluate(x_test, y_test)\n",
    "    print(f\"Test accuracy: {round(accuracy * 100, 2)}%\")\n",
    "    print(f\"Test top 5 accuracy: {round(top_5_accuracy * 100, 2)}%\")\n",
    "\n",
    "    return history\n",
    "\n",
    "vit_classifier = create_vit_classifier()\n",
    "history = run_experiment(vit_classifier)"
   ]
  },
  {
   "cell_type": "code",
   "execution_count": 13,
   "id": "2f9c925d",
   "metadata": {},
   "outputs": [
    {
     "name": "stdout",
     "output_type": "stream",
     "text": [
      "Model: \"model\"\n",
      "__________________________________________________________________________________________________\n",
      " Layer (type)                   Output Shape         Param #     Connected to                     \n",
      "==================================================================================================\n",
      " input_1 (InputLayer)           [(None, 32, 32, 3)]  0           []                               \n",
      "                                                                                                  \n",
      " data_augmentation (Sequential)  (None, 72, 72, 3)   7           ['input_1[0][0]']                \n",
      "                                                                                                  \n",
      " patches_1 (Patches)            (None, None, 108)    0           ['data_augmentation[0][0]']      \n",
      "                                                                                                  \n",
      " patch_encoder (PatchEncoder)   (None, 144, 128)     32384       ['patches_1[0][0]']              \n",
      "                                                                                                  \n",
      " layer_normalization (LayerNorm  (None, 144, 128)    256         ['patch_encoder[0][0]']          \n",
      " alization)                                                                                       \n",
      "                                                                                                  \n",
      " multi_head_attention (MultiHea  (None, 144, 128)    527488      ['layer_normalization[0][0]',    \n",
      " dAttention)                                                      'layer_normalization[0][0]']    \n",
      "                                                                                                  \n",
      " add (Add)                      (None, 144, 128)     0           ['multi_head_attention[0][0]',   \n",
      "                                                                  'patch_encoder[0][0]']          \n",
      "                                                                                                  \n",
      " layer_normalization_1 (LayerNo  (None, 144, 128)    256         ['add[0][0]']                    \n",
      " rmalization)                                                                                     \n",
      "                                                                                                  \n",
      " dense_1 (Dense)                (None, 144, 256)     33024       ['layer_normalization_1[0][0]']  \n",
      "                                                                                                  \n",
      " dropout (Dropout)              (None, 144, 256)     0           ['dense_1[0][0]']                \n",
      "                                                                                                  \n",
      " dense_2 (Dense)                (None, 144, 128)     32896       ['dropout[0][0]']                \n",
      "                                                                                                  \n",
      " dropout_1 (Dropout)            (None, 144, 128)     0           ['dense_2[0][0]']                \n",
      "                                                                                                  \n",
      " add_1 (Add)                    (None, 144, 128)     0           ['dropout_1[0][0]',              \n",
      "                                                                  'add[0][0]']                    \n",
      "                                                                                                  \n",
      " layer_normalization_2 (LayerNo  (None, 144, 128)    256         ['add_1[0][0]']                  \n",
      " rmalization)                                                                                     \n",
      "                                                                                                  \n",
      " multi_head_attention_1 (MultiH  (None, 144, 128)    527488      ['layer_normalization_2[0][0]',  \n",
      " eadAttention)                                                    'layer_normalization_2[0][0]']  \n",
      "                                                                                                  \n",
      " add_2 (Add)                    (None, 144, 128)     0           ['multi_head_attention_1[0][0]', \n",
      "                                                                  'add_1[0][0]']                  \n",
      "                                                                                                  \n",
      " layer_normalization_3 (LayerNo  (None, 144, 128)    256         ['add_2[0][0]']                  \n",
      " rmalization)                                                                                     \n",
      "                                                                                                  \n",
      " dense_3 (Dense)                (None, 144, 256)     33024       ['layer_normalization_3[0][0]']  \n",
      "                                                                                                  \n",
      " dropout_2 (Dropout)            (None, 144, 256)     0           ['dense_3[0][0]']                \n",
      "                                                                                                  \n",
      " dense_4 (Dense)                (None, 144, 128)     32896       ['dropout_2[0][0]']              \n",
      "                                                                                                  \n",
      " dropout_3 (Dropout)            (None, 144, 128)     0           ['dense_4[0][0]']                \n",
      "                                                                                                  \n",
      " add_3 (Add)                    (None, 144, 128)     0           ['dropout_3[0][0]',              \n",
      "                                                                  'add_2[0][0]']                  \n",
      "                                                                                                  \n",
      " layer_normalization_4 (LayerNo  (None, 144, 128)    256         ['add_3[0][0]']                  \n",
      " rmalization)                                                                                     \n",
      "                                                                                                  \n",
      " multi_head_attention_2 (MultiH  (None, 144, 128)    527488      ['layer_normalization_4[0][0]',  \n",
      " eadAttention)                                                    'layer_normalization_4[0][0]']  \n",
      "                                                                                                  \n",
      " add_4 (Add)                    (None, 144, 128)     0           ['multi_head_attention_2[0][0]', \n",
      "                                                                  'add_3[0][0]']                  \n",
      "                                                                                                  \n",
      " layer_normalization_5 (LayerNo  (None, 144, 128)    256         ['add_4[0][0]']                  \n",
      " rmalization)                                                                                     \n",
      "                                                                                                  \n",
      " dense_5 (Dense)                (None, 144, 256)     33024       ['layer_normalization_5[0][0]']  \n",
      "                                                                                                  \n",
      " dropout_4 (Dropout)            (None, 144, 256)     0           ['dense_5[0][0]']                \n",
      "                                                                                                  \n",
      " dense_6 (Dense)                (None, 144, 128)     32896       ['dropout_4[0][0]']              \n",
      "                                                                                                  \n",
      " dropout_5 (Dropout)            (None, 144, 128)     0           ['dense_6[0][0]']                \n",
      "                                                                                                  \n",
      " add_5 (Add)                    (None, 144, 128)     0           ['dropout_5[0][0]',              \n",
      "                                                                  'add_4[0][0]']                  \n",
      "                                                                                                  \n",
      " layer_normalization_6 (LayerNo  (None, 144, 128)    256         ['add_5[0][0]']                  \n",
      " rmalization)                                                                                     \n",
      "                                                                                                  \n"
     ]
    },
    {
     "name": "stdout",
     "output_type": "stream",
     "text": [
      " multi_head_attention_3 (MultiH  (None, 144, 128)    527488      ['layer_normalization_6[0][0]',  \n",
      " eadAttention)                                                    'layer_normalization_6[0][0]']  \n",
      "                                                                                                  \n",
      " add_6 (Add)                    (None, 144, 128)     0           ['multi_head_attention_3[0][0]', \n",
      "                                                                  'add_5[0][0]']                  \n",
      "                                                                                                  \n",
      " layer_normalization_7 (LayerNo  (None, 144, 128)    256         ['add_6[0][0]']                  \n",
      " rmalization)                                                                                     \n",
      "                                                                                                  \n",
      " dense_7 (Dense)                (None, 144, 256)     33024       ['layer_normalization_7[0][0]']  \n",
      "                                                                                                  \n",
      " dropout_6 (Dropout)            (None, 144, 256)     0           ['dense_7[0][0]']                \n",
      "                                                                                                  \n",
      " dense_8 (Dense)                (None, 144, 128)     32896       ['dropout_6[0][0]']              \n",
      "                                                                                                  \n",
      " dropout_7 (Dropout)            (None, 144, 128)     0           ['dense_8[0][0]']                \n",
      "                                                                                                  \n",
      " add_7 (Add)                    (None, 144, 128)     0           ['dropout_7[0][0]',              \n",
      "                                                                  'add_6[0][0]']                  \n",
      "                                                                                                  \n",
      " layer_normalization_8 (LayerNo  (None, 144, 128)    256         ['add_7[0][0]']                  \n",
      " rmalization)                                                                                     \n",
      "                                                                                                  \n",
      " multi_head_attention_4 (MultiH  (None, 144, 128)    527488      ['layer_normalization_8[0][0]',  \n",
      " eadAttention)                                                    'layer_normalization_8[0][0]']  \n",
      "                                                                                                  \n",
      " add_8 (Add)                    (None, 144, 128)     0           ['multi_head_attention_4[0][0]', \n",
      "                                                                  'add_7[0][0]']                  \n",
      "                                                                                                  \n",
      " layer_normalization_9 (LayerNo  (None, 144, 128)    256         ['add_8[0][0]']                  \n",
      " rmalization)                                                                                     \n",
      "                                                                                                  \n",
      " dense_9 (Dense)                (None, 144, 256)     33024       ['layer_normalization_9[0][0]']  \n",
      "                                                                                                  \n",
      " dropout_8 (Dropout)            (None, 144, 256)     0           ['dense_9[0][0]']                \n",
      "                                                                                                  \n",
      " dense_10 (Dense)               (None, 144, 128)     32896       ['dropout_8[0][0]']              \n",
      "                                                                                                  \n",
      " dropout_9 (Dropout)            (None, 144, 128)     0           ['dense_10[0][0]']               \n",
      "                                                                                                  \n",
      " add_9 (Add)                    (None, 144, 128)     0           ['dropout_9[0][0]',              \n",
      "                                                                  'add_8[0][0]']                  \n",
      "                                                                                                  \n",
      " layer_normalization_10 (LayerN  (None, 144, 128)    256         ['add_9[0][0]']                  \n",
      " ormalization)                                                                                    \n",
      "                                                                                                  \n",
      " multi_head_attention_5 (MultiH  (None, 144, 128)    527488      ['layer_normalization_10[0][0]', \n",
      " eadAttention)                                                    'layer_normalization_10[0][0]'] \n",
      "                                                                                                  \n",
      " add_10 (Add)                   (None, 144, 128)     0           ['multi_head_attention_5[0][0]', \n",
      "                                                                  'add_9[0][0]']                  \n",
      "                                                                                                  \n",
      " layer_normalization_11 (LayerN  (None, 144, 128)    256         ['add_10[0][0]']                 \n",
      " ormalization)                                                                                    \n",
      "                                                                                                  \n",
      " dense_11 (Dense)               (None, 144, 256)     33024       ['layer_normalization_11[0][0]'] \n",
      "                                                                                                  \n",
      " dropout_10 (Dropout)           (None, 144, 256)     0           ['dense_11[0][0]']               \n",
      "                                                                                                  \n",
      " dense_12 (Dense)               (None, 144, 128)     32896       ['dropout_10[0][0]']             \n",
      "                                                                                                  \n",
      " dropout_11 (Dropout)           (None, 144, 128)     0           ['dense_12[0][0]']               \n",
      "                                                                                                  \n",
      " add_11 (Add)                   (None, 144, 128)     0           ['dropout_11[0][0]',             \n",
      "                                                                  'add_10[0][0]']                 \n",
      "                                                                                                  \n",
      " layer_normalization_12 (LayerN  (None, 144, 128)    256         ['add_11[0][0]']                 \n",
      " ormalization)                                                                                    \n",
      "                                                                                                  \n",
      " multi_head_attention_6 (MultiH  (None, 144, 128)    527488      ['layer_normalization_12[0][0]', \n",
      " eadAttention)                                                    'layer_normalization_12[0][0]'] \n",
      "                                                                                                  \n",
      " add_12 (Add)                   (None, 144, 128)     0           ['multi_head_attention_6[0][0]', \n",
      "                                                                  'add_11[0][0]']                 \n",
      "                                                                                                  \n",
      " layer_normalization_13 (LayerN  (None, 144, 128)    256         ['add_12[0][0]']                 \n",
      " ormalization)                                                                                    \n",
      "                                                                                                  \n",
      " dense_13 (Dense)               (None, 144, 256)     33024       ['layer_normalization_13[0][0]'] \n",
      "                                                                                                  \n",
      " dropout_12 (Dropout)           (None, 144, 256)     0           ['dense_13[0][0]']               \n",
      "                                                                                                  \n",
      " dense_14 (Dense)               (None, 144, 128)     32896       ['dropout_12[0][0]']             \n"
     ]
    },
    {
     "name": "stdout",
     "output_type": "stream",
     "text": [
      "                                                                                                  \n",
      " dropout_13 (Dropout)           (None, 144, 128)     0           ['dense_14[0][0]']               \n",
      "                                                                                                  \n",
      " add_13 (Add)                   (None, 144, 128)     0           ['dropout_13[0][0]',             \n",
      "                                                                  'add_12[0][0]']                 \n",
      "                                                                                                  \n",
      " layer_normalization_14 (LayerN  (None, 144, 128)    256         ['add_13[0][0]']                 \n",
      " ormalization)                                                                                    \n",
      "                                                                                                  \n",
      " multi_head_attention_7 (MultiH  (None, 144, 128)    527488      ['layer_normalization_14[0][0]', \n",
      " eadAttention)                                                    'layer_normalization_14[0][0]'] \n",
      "                                                                                                  \n",
      " add_14 (Add)                   (None, 144, 128)     0           ['multi_head_attention_7[0][0]', \n",
      "                                                                  'add_13[0][0]']                 \n",
      "                                                                                                  \n",
      " layer_normalization_15 (LayerN  (None, 144, 128)    256         ['add_14[0][0]']                 \n",
      " ormalization)                                                                                    \n",
      "                                                                                                  \n",
      " dense_15 (Dense)               (None, 144, 256)     33024       ['layer_normalization_15[0][0]'] \n",
      "                                                                                                  \n",
      " dropout_14 (Dropout)           (None, 144, 256)     0           ['dense_15[0][0]']               \n",
      "                                                                                                  \n",
      " dense_16 (Dense)               (None, 144, 128)     32896       ['dropout_14[0][0]']             \n",
      "                                                                                                  \n",
      " dropout_15 (Dropout)           (None, 144, 128)     0           ['dense_16[0][0]']               \n",
      "                                                                                                  \n",
      " add_15 (Add)                   (None, 144, 128)     0           ['dropout_15[0][0]',             \n",
      "                                                                  'add_14[0][0]']                 \n",
      "                                                                                                  \n",
      " layer_normalization_16 (LayerN  (None, 144, 128)    256         ['add_15[0][0]']                 \n",
      " ormalization)                                                                                    \n",
      "                                                                                                  \n",
      " multi_head_attention_8 (MultiH  (None, 144, 128)    527488      ['layer_normalization_16[0][0]', \n",
      " eadAttention)                                                    'layer_normalization_16[0][0]'] \n",
      "                                                                                                  \n",
      " add_16 (Add)                   (None, 144, 128)     0           ['multi_head_attention_8[0][0]', \n",
      "                                                                  'add_15[0][0]']                 \n",
      "                                                                                                  \n",
      " layer_normalization_17 (LayerN  (None, 144, 128)    256         ['add_16[0][0]']                 \n",
      " ormalization)                                                                                    \n",
      "                                                                                                  \n",
      " dense_17 (Dense)               (None, 144, 256)     33024       ['layer_normalization_17[0][0]'] \n",
      "                                                                                                  \n",
      " dropout_16 (Dropout)           (None, 144, 256)     0           ['dense_17[0][0]']               \n",
      "                                                                                                  \n",
      " dense_18 (Dense)               (None, 144, 128)     32896       ['dropout_16[0][0]']             \n",
      "                                                                                                  \n",
      " dropout_17 (Dropout)           (None, 144, 128)     0           ['dense_18[0][0]']               \n",
      "                                                                                                  \n",
      " add_17 (Add)                   (None, 144, 128)     0           ['dropout_17[0][0]',             \n",
      "                                                                  'add_16[0][0]']                 \n",
      "                                                                                                  \n",
      " layer_normalization_18 (LayerN  (None, 144, 128)    256         ['add_17[0][0]']                 \n",
      " ormalization)                                                                                    \n",
      "                                                                                                  \n",
      " multi_head_attention_9 (MultiH  (None, 144, 128)    527488      ['layer_normalization_18[0][0]', \n",
      " eadAttention)                                                    'layer_normalization_18[0][0]'] \n",
      "                                                                                                  \n",
      " add_18 (Add)                   (None, 144, 128)     0           ['multi_head_attention_9[0][0]', \n",
      "                                                                  'add_17[0][0]']                 \n",
      "                                                                                                  \n",
      " layer_normalization_19 (LayerN  (None, 144, 128)    256         ['add_18[0][0]']                 \n",
      " ormalization)                                                                                    \n",
      "                                                                                                  \n",
      " dense_19 (Dense)               (None, 144, 256)     33024       ['layer_normalization_19[0][0]'] \n",
      "                                                                                                  \n",
      " dropout_18 (Dropout)           (None, 144, 256)     0           ['dense_19[0][0]']               \n",
      "                                                                                                  \n",
      " dense_20 (Dense)               (None, 144, 128)     32896       ['dropout_18[0][0]']             \n",
      "                                                                                                  \n",
      " dropout_19 (Dropout)           (None, 144, 128)     0           ['dense_20[0][0]']               \n",
      "                                                                                                  \n",
      " add_19 (Add)                   (None, 144, 128)     0           ['dropout_19[0][0]',             \n",
      "                                                                  'add_18[0][0]']                 \n",
      "                                                                                                  \n",
      " layer_normalization_20 (LayerN  (None, 144, 128)    256         ['add_19[0][0]']                 \n",
      " ormalization)                                                                                    \n",
      "                                                                                                  \n",
      " flatten (Flatten)              (None, 18432)        0           ['layer_normalization_20[0][0]'] \n",
      "                                                                                                  \n",
      " dropout_20 (Dropout)           (None, 18432)        0           ['flatten[0][0]']                \n",
      "                                                                                                  \n",
      " dense_21 (Dense)               (None, 2048)         37750784    ['dropout_20[0][0]']             \n"
     ]
    },
    {
     "name": "stdout",
     "output_type": "stream",
     "text": [
      "                                                                                                  \n",
      " dropout_21 (Dropout)           (None, 2048)         0           ['dense_21[0][0]']               \n",
      "                                                                                                  \n",
      " dense_22 (Dense)               (None, 1024)         2098176     ['dropout_21[0][0]']             \n",
      "                                                                                                  \n",
      " dropout_22 (Dropout)           (None, 1024)         0           ['dense_22[0][0]']               \n",
      "                                                                                                  \n",
      " dense_23 (Dense)               (None, 100)          102500      ['dropout_22[0][0]']             \n",
      "                                                                                                  \n",
      "==================================================================================================\n",
      "Total params: 45,923,307\n",
      "Trainable params: 45,923,300\n",
      "Non-trainable params: 7\n",
      "__________________________________________________________________________________________________\n"
     ]
    }
   ],
   "source": [
    "vit_classifier.summary()"
   ]
  },
  {
   "cell_type": "code",
   "execution_count": 14,
   "id": "65fbaa72",
   "metadata": {},
   "outputs": [
    {
     "data": {
      "text/plain": [
       "[<matplotlib.lines.Line2D at 0x7f3acb488040>]"
      ]
     },
     "execution_count": 14,
     "metadata": {},
     "output_type": "execute_result"
    },
    {
     "data": {
      "image/png": "[encoded data removed]",
      "text/plain": [
       "<Figure size 640x480 with 2 Axes>"
      ]
     },
     "metadata": {},
     "output_type": "display_data"
    }
   ],
   "source": [
    "import matplotlib.pyplot as plt\n",
    "plt.subplot(211)\n",
    "plt.title('Cross Entropy Loss')\n",
    "plt.plot(history.history['loss'], color='blue', label='train')\n",
    "plt.plot(history.history['val_loss'], color='orange', label='test')\n",
    "\n",
    "plt.subplot(212)\n",
    "plt.title('Classification Accuracy')\n",
    "plt.plot(history.history['accuracy'], color='blue', label='train')\n",
    "plt.plot(history.history['val_accuracy'], color='orange', label='test')"
   ]
  },
  {
   "cell_type": "code",
   "execution_count": null,
   "id": "bd66ebf1",
   "metadata": {},
   "outputs": [],
   "source": []
  }
 ],
 "metadata": {
  "kernelspec": {
   "display_name": "Python 3 (ipykernel)",
   "language": "python",
   "name": "python3"
  },
  "language_info": {
   "codemirror_mode": {
    "name": "ipython",
    "version": 3
   },
   "file_extension": ".py",
   "mimetype": "text/x-python",
   "name": "python",
   "nbconvert_exporter": "python",
   "pygments_lexer": "ipython3",
   "version": "3.9.13"
  }
 },
 "nbformat": 4,
 "nbformat_minor": 5
}
